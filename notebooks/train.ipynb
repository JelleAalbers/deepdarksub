{
 "cells": [
  {
   "cell_type": "code",
   "execution_count": 1,
   "id": "1981b511",
   "metadata": {},
   "outputs": [
    {
     "name": "stdout",
     "output_type": "stream",
     "text": [
      "Imports started\n",
      "Imports done\n"
     ]
    }
   ],
   "source": [
    "# Imports (and even just starting the kernel)\n",
    "# takes a while on SDF, due to the network filesystem.\n",
    "# Sometimes the kernel does not (re)start at all.\n",
    "print(\"Imports started\")\n",
    "\n",
    "from datetime import datetime\n",
    "from functools import partial\n",
    "import json\n",
    "from pathlib import Path\n",
    "\n",
    "import fastai.vision.all as fv\n",
    "import numpy as np\n",
    "from scipy import stats\n",
    "import torch\n",
    "\n",
    "import deepdarksub as dds\n",
    "\n",
    "print(\"Imports done\")"
   ]
  },
  {
   "cell_type": "markdown",
   "id": "c455d534",
   "metadata": {},
   "source": [
    "## Configuration"
   ]
  },
  {
   "cell_type": "code",
   "execution_count": 2,
   "id": "2a2d3459",
   "metadata": {},
   "outputs": [
    {
     "name": "stdout",
     "output_type": "stream",
     "text": [
      "210622_2127_more_500k_jqw5uxkpqm\n"
     ]
    }
   ],
   "source": [
    "# Parameters to fit and shorthand names\n",
    "mdef = 'main_deflector_parameters_'\n",
    "fit_parameters, short_names = zip(*(\n",
    "    (mdef + 'theta_E', 'theta_E'),\n",
    "    ('subhalo_parameters_sigma_sub', 'sigma_sub'),\n",
    "    ('los_parameters_delta_los', 'delta_los'),\n",
    "    (mdef + 'center_x', 'center_x'),\n",
    "    (mdef + 'center_y', 'center_y'),\n",
    "    (mdef + 'gamma', 'gamma'),\n",
    "    (mdef + 'gamma1', 'gamma1'),\n",
    "    (mdef + 'gamma2', 'gamma2'),\n",
    "    (mdef + 'e1', 'e1'),\n",
    "    (mdef + 'e2', 'e2')))\n",
    "\n",
    "# Configuration\n",
    "train_config = dict(\n",
    "    dataset_name = 'more_500k',\n",
    "    fit_parameters = fit_parameters,\n",
    "    uncertainty = 'diagonal',\n",
    "    augment_rotation = 'free',\n",
    "    batch_size = 1024,\n",
    "\n",
    "    # Sigma_sub is our inference goal, but quite hard in the beginning.\n",
    "    # theta_E is very correlated, and gamma slightly correlated.\n",
    "    parameter_weights={\n",
    "        'subhalo_parameters_sigma_sub': 10,\n",
    "        mdef + 'theta_E': 10,\n",
    "        mdef + 'gamma': 5},\n",
    "    \n",
    "    n_epochs = 200,\n",
    "    architecture = 'resnet18',\n",
    "    bn_final = True,\n",
    "    base_lr = 0.05)\n",
    "\n",
    "# Get a unique name from the current time and configuration,\n",
    "# for naming the model and training logs,\n",
    "result_name = (\n",
    "    datetime.now().strftime('%y%m%d_%H%M') \n",
    "    + '_' + train_config['dataset_name']\n",
    "    + '_' + dds.deterministic_hash(train_config))\n",
    "print(result_name)"
   ]
  },
  {
   "cell_type": "markdown",
   "id": "d16dbe55",
   "metadata": {},
   "source": [
    "## Load data"
   ]
  },
  {
   "cell_type": "code",
   "execution_count": 3,
   "id": "f27e1376",
   "metadata": {},
   "outputs": [
    {
     "name": "stdout",
     "output_type": "stream",
     "text": [
      "2335 distinct source galaxies used by manada. \n",
      "Throw away 110, use 99 for validation, 2163 left for training.\n",
      "\n",
      "Total images: 484186; 463024 for training and 21162 for validation.\n"
     ]
    }
   ],
   "source": [
    "data_dir = Path('/lscratch/jaalbers') / train_config['dataset_name']\n",
    "if not data_dir.exists():\n",
    "    print(f\"Extracting training data to {data_dir} (will take a minute or so)\")\n",
    "    !7z x /scratch/jaalbers/{train_config['dataset_name']}.zip -o/lscratch/jaalbers > /dev/null\n",
    "\n",
    "# Load metadata\n",
    "meta, galaxy_indices = dds.load_metadata(data_dir, remove_bad=True)\n",
    "\n",
    "normalizer = dds.Normalizer(meta, train_config['fit_parameters'])"
   ]
  },
  {
   "cell_type": "code",
   "execution_count": 4,
   "id": "5169cfaa",
   "metadata": {},
   "outputs": [
    {
     "name": "stdout",
     "output_type": "stream",
     "text": [
      "Training on NVIDIA GeForce RTX 2080 Ti\n"
     ]
    }
   ],
   "source": [
    "print(\"Training on \" + torch.cuda.get_device_name(torch.cuda.current_device()))\n",
    "assert torch.cuda.is_available()\n",
    "\n",
    "# Setting these up will take a while\n",
    "data_block = dds.data_block(\n",
    "    meta, train_config['fit_parameters'], data_dir, train_config['uncertainty'], \n",
    "    augment_rotation=train_config['augment_rotation'])\n",
    "data_loaders = data_block.dataloaders(None, bs=train_config['batch_size'])"
   ]
  },
  {
   "cell_type": "markdown",
   "id": "4b3ad460",
   "metadata": {},
   "source": [
    "## Setup training metrics and network"
   ]
  },
  {
   "cell_type": "code",
   "execution_count": 5,
   "id": "bdfa0299",
   "metadata": {},
   "outputs": [],
   "source": [
    "n_params = len(train_config['fit_parameters'])\n",
    "\n",
    "assert train_config['uncertainty'] == 'diagonal'\n",
    "metrics = dds.all_metrics(fit_parameters, normalizer, short_names)\n",
    "\n",
    "learner = fv.cnn_learner(\n",
    "    dls=data_loaders,\n",
    "    arch=getattr(fv, train_config['architecture']),\n",
    "    n_in=1,\n",
    "    n_out=dds.n_out(n_params, train_config['uncertainty']),\n",
    "    loss_func=dds.loss_for(\n",
    "        fit_parameters, \n",
    "        train_config['uncertainty'],\n",
    "        parameter_weights=train_config.get('parameter_weights')),\n",
    "    metrics=metrics,\n",
    "    pretrained=False,\n",
    "    bn_final=train_config['bn_final'])"
   ]
  },
  {
   "cell_type": "code",
   "execution_count": 6,
   "id": "b1e5eed0",
   "metadata": {},
   "outputs": [
    {
     "data": {
      "text/html": [],
      "text/plain": [
       "<IPython.core.display.HTML object>"
      ]
     },
     "metadata": {},
     "output_type": "display_data"
    },
    {
     "data": {
      "text/plain": [
       "SuggestedLRs(lr_min=0.07585775852203369, lr_steep=0.25118863582611084)"
      ]
     },
     "execution_count": 6,
     "metadata": {},
     "output_type": "execute_result"
    },
    {
     "data": {
      "image/png": "[encoded data removed]",
      "text/plain": [
       "<Figure size 432x288 with 1 Axes>"
      ]
     },
     "metadata": {
      "needs_background": "light"
     },
     "output_type": "display_data"
    }
   ],
   "source": [
    "learner.lr_find()"
   ]
  },
  {
   "cell_type": "markdown",
   "id": "b77f2746",
   "metadata": {},
   "source": [
    "## Training"
   ]
  },
  {
   "cell_type": "code",
   "execution_count": null,
   "id": "23f6f675",
   "metadata": {},
   "outputs": [
    {
     "data": {
      "text/html": [
       "\n",
       "    <div>\n",
       "        <style>\n",
       "            /* Turns off some styling */\n",
       "            progress {\n",
       "                /* gets rid of default border in Firefox and Opera. */\n",
       "                border: none;\n",
       "                /* Needs to be in here for Safari polyfill so background images work as expected. */\n",
       "                background-size: auto;\n",
       "            }\n",
       "            .progress-bar-interrupted, .progress-bar-interrupted::-webkit-progress-bar {\n",
       "                background: #F44336;\n",
       "            }\n",
       "        </style>\n",
       "      <progress value='2' class='' max='200' style='width:300px; height:20px; vertical-align: middle;'></progress>\n",
       "      1.00% [2/200 05:41<9:23:37]\n",
       "    </div>\n",
       "    \n",
       "<table border=\"1\" class=\"dataframe\">\n",
       "  <thead>\n",
       "    <tr style=\"text-align: left;\">\n",
       "      <th>epoch</th>\n",
       "      <th>train_loss</th>\n",
       "      <th>valid_loss</th>\n",
       "      <th>theta_E_rmse</th>\n",
       "      <th>sigma_sub_rmse</th>\n",
       "      <th>delta_los_rmse</th>\n",
       "      <th>center_x_rmse</th>\n",
       "      <th>center_y_rmse</th>\n",
       "      <th>gamma_rmse</th>\n",
       "      <th>gamma1_rmse</th>\n",
       "      <th>gamma2_rmse</th>\n",
       "      <th>e1_rmse</th>\n",
       "      <th>e2_rmse</th>\n",
       "      <th>theta_E_unc</th>\n",
       "      <th>sigma_sub_unc</th>\n",
       "      <th>delta_los_unc</th>\n",
       "      <th>center_x_unc</th>\n",
       "      <th>center_y_unc</th>\n",
       "      <th>gamma_unc</th>\n",
       "      <th>gamma1_unc</th>\n",
       "      <th>gamma2_unc</th>\n",
       "      <th>e1_unc</th>\n",
       "      <th>e2_unc</th>\n",
       "      <th>theta_E_rho</th>\n",
       "      <th>sigma_sub_rho</th>\n",
       "      <th>delta_los_rho</th>\n",
       "      <th>center_x_rho</th>\n",
       "      <th>center_y_rho</th>\n",
       "      <th>gamma_rho</th>\n",
       "      <th>gamma1_rho</th>\n",
       "      <th>gamma2_rho</th>\n",
       "      <th>e1_rho</th>\n",
       "      <th>e2_rho</th>\n",
       "      <th>theta_E_sigma_su/b_rho</th>\n",
       "      <th>sigma_sub_sigma_su/b_rho</th>\n",
       "      <th>delta_los_sigma_su/b_rho</th>\n",
       "      <th>center_x_sigma_su/b_rho</th>\n",
       "      <th>center_y_sigma_su/b_rho</th>\n",
       "      <th>gamma_sigma_su/b_rho</th>\n",
       "      <th>gamma1_sigma_su/b_rho</th>\n",
       "      <th>gamma2_sigma_su/b_rho</th>\n",
       "      <th>e1_sigma_su/b_rho</th>\n",
       "      <th>e2_sigma_su/b_rho</th>\n",
       "      <th>time</th>\n",
       "    </tr>\n",
       "  </thead>\n",
       "  <tbody>\n",
       "    <tr>\n",
       "      <td>0</td>\n",
       "      <td>1.105062</td>\n",
       "      <td>1.038803</td>\n",
       "      <td>3.785905</td>\n",
       "      <td>0.889514</td>\n",
       "      <td>0.890669</td>\n",
       "      <td>0.310695</td>\n",
       "      <td>0.321655</td>\n",
       "      <td>0.985214</td>\n",
       "      <td>0.098702</td>\n",
       "      <td>0.104752</td>\n",
       "      <td>0.103292</td>\n",
       "      <td>0.104124</td>\n",
       "      <td>1.655146</td>\n",
       "      <td>1.083391</td>\n",
       "      <td>1.086150</td>\n",
       "      <td>0.285478</td>\n",
       "      <td>0.285052</td>\n",
       "      <td>1.180913</td>\n",
       "      <td>0.089209</td>\n",
       "      <td>0.089663</td>\n",
       "      <td>0.088925</td>\n",
       "      <td>0.089447</td>\n",
       "      <td>0.967641</td>\n",
       "      <td>0.069289</td>\n",
       "      <td>-0.011983</td>\n",
       "      <td>0.127221</td>\n",
       "      <td>0.099846</td>\n",
       "      <td>0.244996</td>\n",
       "      <td>0.023883</td>\n",
       "      <td>0.047278</td>\n",
       "      <td>0.008390</td>\n",
       "      <td>0.009777</td>\n",
       "      <td>0.395762</td>\n",
       "      <td>0.069289</td>\n",
       "      <td>0.003287</td>\n",
       "      <td>-0.014008</td>\n",
       "      <td>-0.014494</td>\n",
       "      <td>-0.034906</td>\n",
       "      <td>-0.018848</td>\n",
       "      <td>-0.002441</td>\n",
       "      <td>-0.004986</td>\n",
       "      <td>-0.003597</td>\n",
       "      <td>02:50</td>\n",
       "    </tr>\n",
       "    <tr>\n",
       "      <td>1</td>\n",
       "      <td>0.901679</td>\n",
       "      <td>inf</td>\n",
       "      <td>0.944981</td>\n",
       "      <td>0.029504</td>\n",
       "      <td>0.138404</td>\n",
       "      <td>0.002718</td>\n",
       "      <td>0.002933</td>\n",
       "      <td>0.082669</td>\n",
       "      <td>0.001121</td>\n",
       "      <td>0.001200</td>\n",
       "      <td>0.005419</td>\n",
       "      <td>0.005571</td>\n",
       "      <td>2.103228</td>\n",
       "      <td>1.080269</td>\n",
       "      <td>1.081901</td>\n",
       "      <td>0.294414</td>\n",
       "      <td>0.000000</td>\n",
       "      <td>0.000000</td>\n",
       "      <td>0.000000</td>\n",
       "      <td>0.000000</td>\n",
       "      <td>0.000000</td>\n",
       "      <td>0.000000</td>\n",
       "      <td>0.676694</td>\n",
       "      <td>0.010358</td>\n",
       "      <td>-0.000058</td>\n",
       "      <td>0.001625</td>\n",
       "      <td>-0.007298</td>\n",
       "      <td>0.006849</td>\n",
       "      <td>-0.044455</td>\n",
       "      <td>0.019283</td>\n",
       "      <td>0.010891</td>\n",
       "      <td>0.000737</td>\n",
       "      <td>0.106451</td>\n",
       "      <td>0.010358</td>\n",
       "      <td>0.000120</td>\n",
       "      <td>-0.000166</td>\n",
       "      <td>-0.008524</td>\n",
       "      <td>-0.018239</td>\n",
       "      <td>-0.043727</td>\n",
       "      <td>-0.018599</td>\n",
       "      <td>-0.010856</td>\n",
       "      <td>-0.000443</td>\n",
       "      <td>02:51</td>\n",
       "    </tr>\n",
       "  </tbody>\n",
       "</table><p>\n",
       "\n",
       "    <div>\n",
       "        <style>\n",
       "            /* Turns off some styling */\n",
       "            progress {\n",
       "                /* gets rid of default border in Firefox and Opera. */\n",
       "                border: none;\n",
       "                /* Needs to be in here for Safari polyfill so background images work as expected. */\n",
       "                background-size: auto;\n",
       "            }\n",
       "            .progress-bar-interrupted, .progress-bar-interrupted::-webkit-progress-bar {\n",
       "                background: #F44336;\n",
       "            }\n",
       "        </style>\n",
       "      <progress value='219' class='' max='452' style='width:300px; height:20px; vertical-align: middle;'></progress>\n",
       "      48.45% [219/452 01:19<01:24 0.8537]\n",
       "    </div>\n",
       "    "
      ],
      "text/plain": [
       "<IPython.core.display.HTML object>"
      ]
     },
     "metadata": {},
     "output_type": "display_data"
    },
    {
     "name": "stderr",
     "output_type": "stream",
     "text": [
      "/sdf/home/j/jaalbers/software/deepdarksub/deepdarksub/normalize.py:75: RuntimeWarning: overflow encountered in power\n",
      "  x_unc = np.stack([2 ** x[:, n_params + i] * self.scales[p]\n"
     ]
    }
   ],
   "source": [
    "learner.fit_one_cycle(\n",
    "    n_epoch=train_config['n_epochs'],\n",
    "    lr_max=train_config['base_lr'])"
   ]
  },
  {
   "cell_type": "markdown",
   "id": "ce3b1d74",
   "metadata": {},
   "source": [
    "## Save results"
   ]
  },
  {
   "cell_type": "code",
   "execution_count": null,
   "id": "bd35444c",
   "metadata": {},
   "outputs": [],
   "source": [
    "result_dir = Path('training_results')\n",
    "result_dir.mkdir(exist_ok=True)\n",
    "\n",
    "out = dict(zip(\n",
    "    ['train_loss', 'val_loss', *[f.name for f in metrics]], \n",
    "    np.stack(learner.recorder.values).T.tolist()))\n",
    "out.update(\n",
    "    train_loss_hr = [x.numpy().item() \n",
    "                     for x in learner.recorder.losses],\n",
    "    # only last epoch duration is recorded... oh well\n",
    "    epoch_duration = learner.recorder.log[-1],\n",
    "    n_images = len(meta),\n",
    "    train_config=train_config)\n",
    "\n",
    "with open(result_dir / (result_name + '.json'), mode='w') as f:\n",
    "    json.dump(out, f)\n",
    "    \n",
    "learner.save(result_name)"
   ]
  },
  {
   "cell_type": "markdown",
   "id": "a16976ea",
   "metadata": {},
   "source": [
    "## Quick evaluation"
   ]
  },
  {
   "cell_type": "code",
   "execution_count": null,
   "id": "d7d8a6b1",
   "metadata": {},
   "outputs": [],
   "source": [
    "# **This destroys learn.recorder!** Make sure you do not run save again!\n",
    "preds, targets = learner.get_preds(ds_idx=1, reorder=False)\n",
    "y_pred, y_unc = normalizer.decode(preds, uncertainty=train_config['uncertainty'], as_dict=True)\n",
    "y_true, _ = normalizer.decode(targets[:,:n_params], as_dict=True)"
   ]
  },
  {
   "cell_type": "code",
   "execution_count": null,
   "id": "fbd180d8",
   "metadata": {},
   "outputs": [],
   "source": [
    "import matplotlib.pyplot as plt\n",
    "plt.figure(figsize=(4,4))\n",
    "plt.scatter(y_pred[mdef + 'theta_E'],\n",
    "            y_pred['subhalo_parameters_sigma_sub'], \n",
    "            marker='.', edgecolor='none', s=2,)\n",
    "plt.xlabel(r\"$\\theta_E$\")\n",
    "plt.ylabel(r\"$\\Sigma_\\mathrm{sub}$\")\n",
    "plt.xlim(0.75, 1.6)\n",
    "plt.ylim(0, 0.2)\n",
    "plt.savefig(result_name + '_qe_ssub.png', dpi=200, bbox_inches='tight')"
   ]
  },
  {
   "cell_type": "markdown",
   "id": "8d56553e",
   "metadata": {},
   "source": [
    " * 210620_1504_more_500k_ziqxgbt4on: First with new metrics, incorrect definition of rmse ratio\n",
    " * 210620_1718_more_500k_ziqxgbt4on: Corrected metrics (1/ratio)\n",
    " * 210620_1833_more_500k_ziqxgbt4on: Weighting code added, no weights changed (null test)\n",
    " * 210620_1943_more_500k_4bt4ngpzzu: 5x weight for sigma_sub. LR find shows a bit of a turn-up after 1.0; should still be safe around 0.1, right? Anyway, no big change.\n",
    " * 210620_2017_more_500k_tdsqjb47r3: 50x weight for sigma_sub. No upturn in LR curve anymore, looks just like one for 1x weight. (maybe it was just random effects?). Still no big change.\n",
    " * **210620_2310_more_500k_qo2e5nqumx: 100 epochs, no weighting.**\n",
    " * 210621_2216_more_500k_gnpefbkojl: 10x weight for sigma_sub, 10 theta_e, 5x gamma.\n",
    " * 210621_2237_more_500k_pqh44utj5w: 200 epochs with 10-10-5 weighting. Crashed after epoch 23 (I closed notebook after 15, so we will never know what happened...)\n",
    " * **210622_2127_more_500k_jqw5uxkpqm**: 200 epochs, 10-10-5 weighting, cut learning rate in half (0.05)\n",
    " "
   ]
  },
  {
   "cell_type": "code",
   "execution_count": null,
   "id": "36eb11dc",
   "metadata": {},
   "outputs": [],
   "source": []
  }
 ],
 "metadata": {
  "kernelspec": {
   "display_name": "Python 3",
   "language": "python",
   "name": "python3"
  },
  "language_info": {
   "codemirror_mode": {
    "name": "ipython",
    "version": 3
   },
   "file_extension": ".py",
   "mimetype": "text/x-python",
   "name": "python",
   "nbconvert_exporter": "python",
   "pygments_lexer": "ipython3",
   "version": "3.8.8"
  }
 },
 "nbformat": 4,
 "nbformat_minor": 5
}

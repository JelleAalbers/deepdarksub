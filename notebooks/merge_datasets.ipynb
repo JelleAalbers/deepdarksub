{
 "cells": [
  {
   "cell_type": "code",
   "execution_count": 1,
   "id": "equipped-wellington",
   "metadata": {},
   "outputs": [],
   "source": [
    "from pathlib import Path\n",
    "\n",
    "import numpy as np\n",
    "import pandas as pd"
   ]
  },
  {
   "cell_type": "code",
   "execution_count": 3,
   "id": "dramatic-binding",
   "metadata": {},
   "outputs": [
    {
     "name": "stdout",
     "output_type": "stream",
     "text": [
      "[PosixPath('/home/jaalbers/software/manada/datasets/nosub_0'), PosixPath('/home/jaalbers/software/manada/datasets/nosub_1'), PosixPath('/home/jaalbers/software/manada/datasets/nosub_2'), PosixPath('/home/jaalbers/software/manada/datasets/nosub_3'), PosixPath('/home/jaalbers/software/manada/datasets/nosub_4')]\n"
     ]
    }
   ],
   "source": [
    "base_dir = Path('/home/jaalbers/software/manada/datasets/')\n",
    "source_dirs = list(base_dir.glob('nosub_*'))\n",
    "\n",
    "dest_dir = base_dir / 'nosub'\n",
    "dest_dir.mkdir(exist_ok=True)\n",
    "print(source_dirs)"
   ]
  },
  {
   "cell_type": "code",
   "execution_count": 4,
   "id": "geographic-sterling",
   "metadata": {},
   "outputs": [
    {
     "name": "stdout",
     "output_type": "stream",
     "text": [
      "/home/jaalbers/software/manada/datasets/nosub_0\n",
      "/home/jaalbers/software/manada/datasets/nosub_1\n",
      "/home/jaalbers/software/manada/datasets/nosub_2\n",
      "/home/jaalbers/software/manada/datasets/nosub_3\n",
      "/home/jaalbers/software/manada/datasets/nosub_4\n"
     ]
    }
   ],
   "source": [
    "n_stored = 0\n",
    "dfs = []\n",
    "\n",
    "for folder in source_dirs:\n",
    "    print(folder)\n",
    "    # Read metadata\n",
    "    df = pd.read_csv(folder / 'metadata.csv', index_col=False)\n",
    "    if 'index' in df.columns:\n",
    "        del df['index']\n",
    "    \n",
    "    # Read image filenames\n",
    "    image_files = list(sorted(folder.glob('*.npy')))\n",
    "    assert len(image_files) == len(df)\n",
    "\n",
    "    # Rename files\n",
    "    df['filename'] = [f'image_{i:07d}.npy'\n",
    "                      for i in n_stored + np.arange(len(df))]\n",
    "    for old_path, new_name in zip(image_files, df['filename'].values):\n",
    "        old_path.rename(dest_dir / new_name)\n",
    "    \n",
    "    # Store results\n",
    "    n_stored += len(df)\n",
    "    dfs.append(df)\n",
    "    \n",
    "df = pd.concat(dfs, ignore_index=True)\n",
    "df.to_csv(dest_dir / 'metadata.csv', index_label='index')"
   ]
  },
  {
   "cell_type": "markdown",
   "id": "coastal-nepal",
   "metadata": {},
   "source": [
    "Check we didn't repeat ourselves (e.g. due to random seed)"
   ]
  },
  {
   "cell_type": "code",
   "execution_count": 5,
   "id": "tough-xerox",
   "metadata": {},
   "outputs": [],
   "source": [
    "x = df['main_deflector_parameters_theta_E'].values"
   ]
  },
  {
   "cell_type": "code",
   "execution_count": 6,
   "id": "pediatric-luther",
   "metadata": {},
   "outputs": [
    {
     "data": {
      "text/plain": [
       "(25000, 25000)"
      ]
     },
     "execution_count": 6,
     "metadata": {},
     "output_type": "execute_result"
    }
   ],
   "source": [
    "np.unique(x).size, len(x)"
   ]
  },
  {
   "cell_type": "code",
   "execution_count": 7,
   "id": "gothic-documentation",
   "metadata": {},
   "outputs": [
    {
     "data": {
      "text/plain": [
       "(array([1.0618936 , 0.97512035, 1.06863097, 0.95450313, 1.18826722,\n",
       "        0.95076277, 1.0196983 , 1.32589125, 1.08526278, 1.0975628 ]),\n",
       " array([1.13509157, 1.60515931, 1.14652177, 1.07673084, 1.36176751,\n",
       "        1.07313012, 1.04047376, 1.0566274 , 1.03711726, 1.12935627]))"
      ]
     },
     "execution_count": 7,
     "metadata": {},
     "output_type": "execute_result"
    }
   ],
   "source": [
    "x[:10], x[3000:3010]"
   ]
  }
 ],
 "metadata": {
  "kernelspec": {
   "display_name": "Python 3",
   "language": "python",
   "name": "python3"
  },
  "language_info": {
   "codemirror_mode": {
    "name": "ipython",
    "version": 3
   },
   "file_extension": ".py",
   "mimetype": "text/x-python",
   "name": "python",
   "nbconvert_exporter": "python",
   "pygments_lexer": "ipython3",
   "version": "3.8.8"
  }
 },
 "nbformat": 4,
 "nbformat_minor": 5
}
